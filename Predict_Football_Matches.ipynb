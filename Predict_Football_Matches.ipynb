{
  "nbformat": 4,
  "nbformat_minor": 0,
  "metadata": {
    "colab": {
      "provenance": [],
      "authorship_tag": "ABX9TyNkN04JK7SMw4C72wtpc1Uq",
      "include_colab_link": true
    },
    "kernelspec": {
      "name": "python3",
      "display_name": "Python 3"
    },
    "language_info": {
      "name": "python"
    }
  },
  "cells": [
    {
      "cell_type": "markdown",
      "metadata": {
        "id": "view-in-github",
        "colab_type": "text"
      },
      "source": [
        "<a href=\"https://colab.research.google.com/github/DanielAguilar112/Football-match-predict/blob/main/Predict_Football_Matches.ipynb\" target=\"_parent\"><img src=\"https://colab.research.google.com/assets/colab-badge.svg\" alt=\"Open In Colab\"/></a>"
      ]
    },
    {
      "cell_type": "code",
      "execution_count": 39,
      "metadata": {
        "colab": {
          "base_uri": "https://localhost:8080/"
        },
        "id": "NUJ4V1qOCTxw",
        "outputId": "421e5d2f-0377-4a0a-d6ec-7666619a87da"
      },
      "outputs": [
        {
          "output_type": "execute_result",
          "data": {
            "text/plain": [
              "actual_x\n",
              "1    26\n",
              "0    13\n",
              "Name: count, dtype: int64"
            ]
          },
          "metadata": {},
          "execution_count": 39
        }
      ],
      "source": [
        "import pandas as pd\n",
        "matches = pd.read_csv(\"matches.csv\", index_col=0)\n",
        "matches.head()\n",
        "matches.shape\n",
        "matches[\"round\"].value_counts()\n",
        "matches.dtypes\n",
        "matches[\"date\"] = pd.to_datetime(matches[\"date\"])\n",
        "matches.dtypes\n",
        "matches[\"venue_code\"] = matches[\"venue\"].astype(\"category\").cat.codes\n",
        "matches[\"opp_code\"] = matches[\"opponent\"].astype(\"category\").cat.codes\n",
        "matches[\"hour\"] = matches[\"time\"].str.replace(\":.+\", \"\", regex=True).astype(\"int\")\n",
        "matches[\"day_code\"] = matches[\"date\"].dt.dayofweek\n",
        "\n",
        "matches[\"target\"] = (matches[\"result\"] == \"W\").astype(\"int\")\n",
        "matches\n",
        "\n",
        "from sklearn.ensemble import RandomForestClassifier\n",
        "rf = RandomForestClassifier(n_estimators=50, min_samples_split=10, random_state=1)\n",
        "train = matches[matches[\"date\"] < '2022-01-01']\n",
        "test = matches[matches[\"date\"] > '2022-01-01']\n",
        "predictors = [\"venue_code\", \"opp_code\", \"hour\", \"day_code\"]\n",
        "rf.fit(train[predictors], train[\"target\"])\n",
        "preds = rf.predict(test[predictors])\n",
        "from sklearn.metrics import accuracy_score\n",
        "acc = accuracy_score(test[\"target\"], preds)\n",
        "acc\n",
        "\n",
        "combined = pd.DataFrame(dict(actual=test[\"target\"], prediction=preds))\n",
        "pd.crosstab(index=combined[\"actual\"], columns =combined[\"prediction\"])\n",
        "\n",
        "from sklearn.metrics import precision_score\n",
        "precision_score(test[\"target\"], preds)\n",
        "\n",
        "grouped_matches = matches.groupby(\"team\")\n",
        "group = grouped_matches.get_group(\"Manchester City\")\n",
        "group\n",
        "\n",
        "def rolling_averages(group, cols, new_cols):\n",
        "    group = group.sort_values(\"date\")\n",
        "    rolling_stats = group[cols].rolling(3, closed='left').mean()\n",
        "    group[new_cols] = rolling_stats\n",
        "    group = group.dropna(subset=new_cols)\n",
        "    return group\n",
        "cols = [\"gf\", \"ga\", \"sh\", \"sot\", \"dist\", \"fk\", \"pk\", \"pkatt\"]\n",
        "new_cols = [f\"{c}_rolling\" for c in cols]\n",
        "new_cols\n",
        "rolling_averages(group, cols, new_cols)\n",
        "\n",
        "matches_rolling = matches.groupby(\"team\").apply(lambda x: rolling_averages(x, cols, new_cols))\n",
        "matches_rolling\n",
        "\n",
        "matches_rolling= matches_rolling.droplevel('team')\n",
        "matches_rolling\n",
        "\n",
        "matches_rolling.index = range(matches_rolling.shape[0])\n",
        "matches_rolling\n",
        "\n",
        "def make_predictions(data, predictors):\n",
        "    train = data[data[\"date\"] < '2022-01-01']\n",
        "    test = data[data[\"date\"] > '2022-01-01']\n",
        "    rf.fit(train[predictors], train[\"target\"])\n",
        "    preds = rf.predict(test[predictors])\n",
        "    combined = pd.DataFrame(dict(actual=test[\"target\"], prediction=preds))\n",
        "    precision = precision_score(test[\"target\"], preds)\n",
        "    return combined, precision\n",
        "combined, precision = make_predictions(matches_rolling, predictors + new_cols)\n",
        "precision\n",
        "combined = combined.merge(matches_rolling[[\"date\", \"team\", \"opponent\", \"result\"]], left_index=True, right_index=True)\n",
        "combined\n",
        "\n",
        "class MissingDict(dict):\n",
        "    __missing__ = lambda self, key:key\n",
        "\n",
        "map_values = {\n",
        "    \"Brighton and Hove Albion\": \"Brighton\",\n",
        "    \"Manchester United\": \"Manchester Utd\",\n",
        "    \"Newcastle United\": \"Newcastle Utd\",\n",
        "    \"Tottenham Hotspur\": \"Tottenham\",\n",
        "    \"West Ham United\": \"West Ham\",\n",
        "    \"WolverHampton Wanderers\": \"Wolves\"\n",
        "}\n",
        "mapping = MissingDict(**map_values)\n",
        "\n",
        "mapping[\"West Ham United\"]\n",
        "\n",
        "combined[\"new_team\"] = combined[\"team\"].map(mapping)\n",
        "combined\n",
        "\n",
        "merged = combined.merge(combined, left_on=[\"date\", \"new_team\"], right_on=[\"date\", \"opponent\"])\n",
        "merged\n",
        "\n",
        "merged[(merged[\"prediction_x\"] == 1) & (merged[\"prediction_y\"] == 0)][\"actual_x\"].value_counts()\n",
        "\n"
      ]
    }
  ]
}